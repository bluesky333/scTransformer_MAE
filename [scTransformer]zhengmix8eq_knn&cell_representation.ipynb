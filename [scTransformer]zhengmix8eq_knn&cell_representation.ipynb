{
  "cells": [
    {
      "cell_type": "markdown",
      "metadata": {
        "id": "view-in-github",
        "colab_type": "text"
      },
      "source": [
        "<a href=\"https://colab.research.google.com/github/JieShengm/scTransformer_MAE/blob/main/%5BscTransformer%5Dzhengmix8eq_knn%26cell_representation.ipynb\" target=\"_parent\"><img src=\"https://colab.research.google.com/assets/colab-badge.svg\" alt=\"Open In Colab\"/></a>"
      ]
    },
    {
      "cell_type": "markdown",
      "metadata": {
        "id": "uCsbZKerqw_F"
      },
      "source": [
        "# Prep"
      ]
    },
    {
      "cell_type": "code",
      "execution_count": 1,
      "metadata": {
        "colab": {
          "base_uri": "https://localhost:8080/"
        },
        "id": "r6ebIR7TztnY",
        "outputId": "0b44998c-2a7f-4fc2-82dd-6d92e3236483"
      },
      "outputs": [
        {
          "output_type": "stream",
          "name": "stdout",
          "text": [
            "[Errno 2] No such file or directory: '/content/drive/MyDrive/scmae'\n",
            "/content\n"
          ]
        }
      ],
      "source": [
        "cd /content/drive/MyDrive/scmae"
      ]
    },
    {
      "cell_type": "code",
      "execution_count": 2,
      "metadata": {
        "colab": {
          "base_uri": "https://localhost:8080/",
          "height": 1000
        },
        "id": "ThWzLwEsz8cn",
        "outputId": "3cc8a58f-9abd-4698-8bfb-0adf83f63ce9"
      },
      "outputs": [
        {
          "output_type": "stream",
          "name": "stdout",
          "text": [
            "Running in Colab.\n",
            "Looking in indexes: https://pypi.org/simple, https://us-python.pkg.dev/colab-wheels/public/simple/\n",
            "Collecting timm==0.4.5\n",
            "  Downloading timm-0.4.5-py3-none-any.whl (287 kB)\n",
            "\u001b[K     |████████████████████████████████| 287 kB 16.7 MB/s \n",
            "\u001b[?25hRequirement already satisfied: torchvision in /usr/local/lib/python3.7/dist-packages (from timm==0.4.5) (0.13.0+cu113)\n",
            "Requirement already satisfied: torch>=1.4 in /usr/local/lib/python3.7/dist-packages (from timm==0.4.5) (1.12.0+cu113)\n",
            "Requirement already satisfied: typing-extensions in /usr/local/lib/python3.7/dist-packages (from torch>=1.4->timm==0.4.5) (4.1.1)\n",
            "Requirement already satisfied: pillow!=8.3.*,>=5.3.0 in /usr/local/lib/python3.7/dist-packages (from torchvision->timm==0.4.5) (7.1.2)\n",
            "Requirement already satisfied: numpy in /usr/local/lib/python3.7/dist-packages (from torchvision->timm==0.4.5) (1.21.6)\n",
            "Requirement already satisfied: requests in /usr/local/lib/python3.7/dist-packages (from torchvision->timm==0.4.5) (2.23.0)\n",
            "Requirement already satisfied: idna<3,>=2.5 in /usr/local/lib/python3.7/dist-packages (from requests->torchvision->timm==0.4.5) (2.10)\n",
            "Requirement already satisfied: chardet<4,>=3.0.2 in /usr/local/lib/python3.7/dist-packages (from requests->torchvision->timm==0.4.5) (3.0.4)\n",
            "Requirement already satisfied: urllib3!=1.25.0,!=1.25.1,<1.26,>=1.21.1 in /usr/local/lib/python3.7/dist-packages (from requests->torchvision->timm==0.4.5) (1.24.3)\n",
            "Requirement already satisfied: certifi>=2017.4.17 in /usr/local/lib/python3.7/dist-packages (from requests->torchvision->timm==0.4.5) (2022.6.15)\n",
            "Installing collected packages: timm\n",
            "Successfully installed timm-0.4.5\n",
            "Looking in indexes: https://pypi.org/simple, https://us-python.pkg.dev/colab-wheels/public/simple/\n",
            "Collecting umap-learn\n",
            "  Downloading umap-learn-0.5.3.tar.gz (88 kB)\n",
            "\u001b[K     |████████████████████████████████| 88 kB 5.6 MB/s \n",
            "\u001b[?25hRequirement already satisfied: numpy>=1.17 in /usr/local/lib/python3.7/dist-packages (from umap-learn) (1.21.6)\n",
            "Requirement already satisfied: scikit-learn>=0.22 in /usr/local/lib/python3.7/dist-packages (from umap-learn) (1.0.2)\n",
            "Requirement already satisfied: scipy>=1.0 in /usr/local/lib/python3.7/dist-packages (from umap-learn) (1.7.3)\n",
            "Requirement already satisfied: numba>=0.49 in /usr/local/lib/python3.7/dist-packages (from umap-learn) (0.56.0)\n",
            "Collecting pynndescent>=0.5\n",
            "  Downloading pynndescent-0.5.7.tar.gz (1.1 MB)\n",
            "\u001b[K     |████████████████████████████████| 1.1 MB 64.5 MB/s \n",
            "\u001b[?25hRequirement already satisfied: tqdm in /usr/local/lib/python3.7/dist-packages (from umap-learn) (4.64.0)\n",
            "Requirement already satisfied: llvmlite<0.40,>=0.39.0dev0 in /usr/local/lib/python3.7/dist-packages (from numba>=0.49->umap-learn) (0.39.0)\n",
            "Requirement already satisfied: importlib-metadata in /usr/local/lib/python3.7/dist-packages (from numba>=0.49->umap-learn) (4.12.0)\n",
            "Requirement already satisfied: setuptools in /usr/local/lib/python3.7/dist-packages (from numba>=0.49->umap-learn) (57.4.0)\n",
            "Requirement already satisfied: joblib>=0.11 in /usr/local/lib/python3.7/dist-packages (from pynndescent>=0.5->umap-learn) (1.1.0)\n",
            "Requirement already satisfied: threadpoolctl>=2.0.0 in /usr/local/lib/python3.7/dist-packages (from scikit-learn>=0.22->umap-learn) (3.1.0)\n",
            "Requirement already satisfied: zipp>=0.5 in /usr/local/lib/python3.7/dist-packages (from importlib-metadata->numba>=0.49->umap-learn) (3.8.1)\n",
            "Requirement already satisfied: typing-extensions>=3.6.4 in /usr/local/lib/python3.7/dist-packages (from importlib-metadata->numba>=0.49->umap-learn) (4.1.1)\n",
            "Building wheels for collected packages: umap-learn, pynndescent\n",
            "  Building wheel for umap-learn (setup.py) ... \u001b[?25l\u001b[?25hdone\n",
            "  Created wheel for umap-learn: filename=umap_learn-0.5.3-py3-none-any.whl size=82829 sha256=0791a8deb79ba0dd61c3ab44bbf557bae55dc34222265c3a4a255f10ecdad1e2\n",
            "  Stored in directory: /root/.cache/pip/wheels/b3/52/a5/1fd9e3e76a7ab34f134c07469cd6f16e27ef3a37aeff1fe821\n",
            "  Building wheel for pynndescent (setup.py) ... \u001b[?25l\u001b[?25hdone\n",
            "  Created wheel for pynndescent: filename=pynndescent-0.5.7-py3-none-any.whl size=54286 sha256=c89d0a095de87c403f99370138555c073a7f736a28550237f48aa19e5e8aef2b\n",
            "  Stored in directory: /root/.cache/pip/wheels/7f/2a/f8/7bd5dcec71bd5c669f6f574db3113513696b98f3f9b51f496c\n",
            "Successfully built umap-learn pynndescent\n",
            "Installing collected packages: pynndescent, umap-learn\n",
            "Successfully installed pynndescent-0.5.7 umap-learn-0.5.3\n",
            "Looking in indexes: https://pypi.org/simple, https://us-python.pkg.dev/colab-wheels/public/simple/\n",
            "Collecting scprep\n",
            "  Downloading scprep-1.2.0-py3-none-any.whl (93 kB)\n",
            "\u001b[K     |████████████████████████████████| 93 kB 2.2 MB/s \n",
            "\u001b[?25hRequirement already satisfied: numpy>=1.12.0 in /usr/local/lib/python3.7/dist-packages (from scprep) (1.21.6)\n",
            "Requirement already satisfied: scipy>=0.18.1 in /usr/local/lib/python3.7/dist-packages (from scprep) (1.7.3)\n",
            "Requirement already satisfied: decorator>=4.3.0 in /usr/local/lib/python3.7/dist-packages (from scprep) (4.4.2)\n",
            "Requirement already satisfied: scikit-learn>=0.19.1 in /usr/local/lib/python3.7/dist-packages (from scprep) (1.0.2)\n",
            "Requirement already satisfied: packaging in /usr/local/lib/python3.7/dist-packages (from scprep) (21.3)\n",
            "Requirement already satisfied: pandas<1.4,>=0.25 in /usr/local/lib/python3.7/dist-packages (from scprep) (1.3.5)\n",
            "Requirement already satisfied: python-dateutil>=2.7.3 in /usr/local/lib/python3.7/dist-packages (from pandas<1.4,>=0.25->scprep) (2.8.2)\n",
            "Requirement already satisfied: pytz>=2017.3 in /usr/local/lib/python3.7/dist-packages (from pandas<1.4,>=0.25->scprep) (2022.1)\n",
            "Requirement already satisfied: six>=1.5 in /usr/local/lib/python3.7/dist-packages (from python-dateutil>=2.7.3->pandas<1.4,>=0.25->scprep) (1.15.0)\n",
            "Requirement already satisfied: joblib>=0.11 in /usr/local/lib/python3.7/dist-packages (from scikit-learn>=0.19.1->scprep) (1.1.0)\n",
            "Requirement already satisfied: threadpoolctl>=2.0.0 in /usr/local/lib/python3.7/dist-packages (from scikit-learn>=0.19.1->scprep) (3.1.0)\n",
            "Requirement already satisfied: pyparsing!=3.0.5,>=2.0.2 in /usr/local/lib/python3.7/dist-packages (from packaging->scprep) (3.0.9)\n",
            "Installing collected packages: scprep\n",
            "Successfully installed scprep-1.2.0\n",
            "Looking in indexes: https://pypi.org/simple, https://us-python.pkg.dev/colab-wheels/public/simple/\n",
            "Collecting anndata\n",
            "  Downloading anndata-0.8.0-py3-none-any.whl (96 kB)\n",
            "\u001b[K     |████████████████████████████████| 96 kB 2.2 MB/s \n",
            "\u001b[?25hRequirement already satisfied: h5py>=3 in /usr/local/lib/python3.7/dist-packages (from anndata) (3.1.0)\n",
            "Requirement already satisfied: importlib_metadata>=0.7 in /usr/local/lib/python3.7/dist-packages (from anndata) (4.12.0)\n",
            "Requirement already satisfied: natsort in /usr/local/lib/python3.7/dist-packages (from anndata) (5.5.0)\n",
            "Requirement already satisfied: numpy>=1.16.5 in /usr/local/lib/python3.7/dist-packages (from anndata) (1.21.6)\n",
            "Requirement already satisfied: scipy>1.4 in /usr/local/lib/python3.7/dist-packages (from anndata) (1.7.3)\n",
            "Requirement already satisfied: typing_extensions in /usr/local/lib/python3.7/dist-packages (from anndata) (4.1.1)\n",
            "Requirement already satisfied: packaging>=20 in /usr/local/lib/python3.7/dist-packages (from anndata) (21.3)\n",
            "Requirement already satisfied: pandas>=1.1.1 in /usr/local/lib/python3.7/dist-packages (from anndata) (1.3.5)\n",
            "Requirement already satisfied: cached-property in /usr/local/lib/python3.7/dist-packages (from h5py>=3->anndata) (1.5.2)\n",
            "Requirement already satisfied: zipp>=0.5 in /usr/local/lib/python3.7/dist-packages (from importlib_metadata>=0.7->anndata) (3.8.1)\n",
            "Requirement already satisfied: pyparsing!=3.0.5,>=2.0.2 in /usr/local/lib/python3.7/dist-packages (from packaging>=20->anndata) (3.0.9)\n",
            "Requirement already satisfied: pytz>=2017.3 in /usr/local/lib/python3.7/dist-packages (from pandas>=1.1.1->anndata) (2022.1)\n",
            "Requirement already satisfied: python-dateutil>=2.7.3 in /usr/local/lib/python3.7/dist-packages (from pandas>=1.1.1->anndata) (2.8.2)\n",
            "Requirement already satisfied: six>=1.5 in /usr/local/lib/python3.7/dist-packages (from python-dateutil>=2.7.3->pandas>=1.1.1->anndata) (1.15.0)\n",
            "Installing collected packages: anndata\n",
            "Successfully installed anndata-0.8.0\n"
          ]
        },
        {
          "output_type": "error",
          "ename": "ModuleNotFoundError",
          "evalue": "ignored",
          "traceback": [
            "\u001b[0;31m---------------------------------------------------------------------------\u001b[0m",
            "\u001b[0;31mModuleNotFoundError\u001b[0m                       Traceback (most recent call last)",
            "\u001b[0;32m<ipython-input-2-b7bf1abf9869>\u001b[0m in \u001b[0;36m<module>\u001b[0;34m()\u001b[0m\n\u001b[1;32m     21\u001b[0m \u001b[0;32melse\u001b[0m\u001b[0;34m:\u001b[0m\u001b[0;34m\u001b[0m\u001b[0;34m\u001b[0m\u001b[0m\n\u001b[1;32m     22\u001b[0m     \u001b[0msys\u001b[0m\u001b[0;34m.\u001b[0m\u001b[0mpath\u001b[0m\u001b[0;34m.\u001b[0m\u001b[0mappend\u001b[0m\u001b[0;34m(\u001b[0m\u001b[0;34m'..'\u001b[0m\u001b[0;34m)\u001b[0m\u001b[0;34m\u001b[0m\u001b[0;34m\u001b[0m\u001b[0m\n\u001b[0;32m---> 23\u001b[0;31m \u001b[0;32mimport\u001b[0m \u001b[0mmodels_mae\u001b[0m\u001b[0;34m\u001b[0m\u001b[0;34m\u001b[0m\u001b[0m\n\u001b[0m\u001b[1;32m     24\u001b[0m \u001b[0;34m\u001b[0m\u001b[0m\n\u001b[1;32m     25\u001b[0m \u001b[0;32mimport\u001b[0m \u001b[0mumap\u001b[0m\u001b[0;34m\u001b[0m\u001b[0;34m\u001b[0m\u001b[0m\n",
            "\u001b[0;31mModuleNotFoundError\u001b[0m: No module named 'models_mae'",
            "",
            "\u001b[0;31m---------------------------------------------------------------------------\u001b[0;32m\nNOTE: If your import is failing due to a missing package, you can\nmanually install dependencies using either !pip or !apt.\n\nTo view examples of installing some common dependencies, click the\n\"Open Examples\" button below.\n\u001b[0;31m---------------------------------------------------------------------------\u001b[0m\n"
          ],
          "errorDetails": {
            "actions": [
              {
                "action": "open_url",
                "actionText": "Open Examples",
                "url": "/notebooks/snippets/importing_libraries.ipynb"
              }
            ]
          }
        }
      ],
      "source": [
        "import sys\n",
        "import os\n",
        "import requests\n",
        "\n",
        "import torch\n",
        "import numpy as np\n",
        "\n",
        "import matplotlib.pyplot as plt\n",
        "from torchvision import transforms as pth_transforms\n",
        "from PIL import Image\n",
        "\n",
        "# check whether run in Colab\n",
        "if 'google.colab' in sys.modules:\n",
        "    print('Running in Colab.')\n",
        "    !pip3 install timm==0.4.5  # 0.3.2 does not work in Colab\n",
        "    !pip3 install umap-learn\n",
        "    !pip3 install scprep\n",
        "    !pip3 install anndata\n",
        "#    !git clone https://github.com/facebookresearch/mae.git\n",
        "#    sys.path.append('./mae')\n",
        "else:\n",
        "    sys.path.append('..')\n",
        "import models_mae\n",
        "\n",
        "import umap\n",
        "import math\n",
        "import scprep\n",
        "\n",
        "umap_operator = umap.UMAP(n_components=2) # n_components = 2: 2-dim umap "
      ]
    },
    {
      "cell_type": "code",
      "source": [
        "from torchvision import datasets\n",
        "import torch.distributed as dist\n",
        "from torch import nn\n",
        "import pandas as pd\n",
        "from util.datasets import scRNACSV\n",
        "from util import misc as utils\n",
        "import torch.backends.cudnn as cudnn\n",
        "import argparse"
      ],
      "metadata": {
        "id": "kp6ZlNfIq0It"
      },
      "execution_count": null,
      "outputs": []
    },
    {
      "cell_type": "markdown",
      "metadata": {
        "id": "q_EZwHtEoHRG"
      },
      "source": [
        "# Main functions"
      ]
    },
    {
      "cell_type": "code",
      "execution_count": null,
      "metadata": {
        "id": "TpHPas-gOIGE"
      },
      "outputs": [],
      "source": [
        "class ReturnIndexDataset(datasets.ImageFolder):\n",
        "    def __getitem__(self, idx):\n",
        "        img, lab = super(ReturnIndexDataset, self).__getitem__(idx)\n",
        "        return img, idx"
      ]
    },
    {
      "cell_type": "code",
      "execution_count": null,
      "metadata": {
        "id": "lTokakijb-ug"
      },
      "outputs": [],
      "source": [
        "class Crop(object):\n",
        "    #def __init__(self):\n",
        "    #    self.totensor = pth_transforms.ToTensor()\n",
        "\n",
        "    def __call__(self, x):\n",
        "        length = x.shape[0]\n",
        "        index = np.arange(length)\n",
        "\n",
        "        corr = torch.from_numpy(index)\n",
        "        vec = torch.cat([x, corr]).float()\n",
        "#        vec = torch.cat([data, corr]).long()\n",
        "\n",
        "        return vec"
      ]
    },
    {
      "cell_type": "code",
      "execution_count": null,
      "metadata": {
        "id": "G3Qwe-okMEW9"
      },
      "outputs": [],
      "source": [
        "def extract_feature_pipeline(args, data_loader_train, data_loader_val, train_labels, test_labels, gene_numer):\n",
        "    # ============ building network ... ============\n",
        "    model = getattr(models_mae, args.model)(gene_embed_dim = args.gene_embed_dim, gene_number = args.gene_number)\n",
        "    print(model)\n",
        "    #model = models_mae.__dict__[args.model](norm_pix_loss=args.norm_pix_loss)\n",
        "    print(f\"Model {args.model} built.\")\n",
        "    model.cuda()\n",
        "    checkpoint = torch.load(args.pretrained_weights, map_location='cpu')\n",
        "    msg = model.load_state_dict(checkpoint['model'], strict=False)\n",
        "    print(msg)\n",
        "    model.eval()\n",
        "\n",
        "    # ============ extract features ... ============\n",
        "    print(\"Extracting features for train set...\")\n",
        "    train_features = extract_features(model, data_loader_train)\n",
        "    print(\"Extracting features for val set...\")\n",
        "    test_features = extract_features(model, data_loader_val)\n",
        "\n",
        "    if utils.get_rank() == 0:\n",
        "        train_features = nn.functional.normalize(train_features, dim=1, p=2)\n",
        "        test_features = nn.functional.normalize(test_features, dim=1, p=2)\n",
        "    # # save features and labels\n",
        "    if args.dump_features and dist.get_rank() == 0:\n",
        "        torch.save(train_features.cpu(), os.path.join(args.dump_features, \"trainfeat.pth\"))\n",
        "        torch.save(test_features.cpu(), os.path.join(args.dump_features, \"testfeat.pth\"))\n",
        "        torch.save(train_labels.cpu(), os.path.join(args.dump_features, \"trainlabels.pth\"))\n",
        "        torch.save(test_labels.cpu(), os.path.join(args.dump_features, \"testlabels.pth\"))\n",
        "    return train_features, test_features, train_labels, test_labels"
      ]
    },
    {
      "cell_type": "code",
      "execution_count": null,
      "metadata": {
        "id": "vGJ9gXLCvKZk"
      },
      "outputs": [],
      "source": [
        "@torch.no_grad()\n",
        "def extract_features(model, data_loader):\n",
        "    metric_logger = utils.MetricLogger(delimiter=\"  \")\n",
        "    features = None\n",
        "    for samples, index in metric_logger.log_every(data_loader, 10):\n",
        "        #print(f'This is a round')\n",
        "        samples = samples.cuda(non_blocking=True)\n",
        "        index = index.cuda(non_blocking=True)\n",
        "        _, _, _, feats = model(samples, mask_ratio=args.mask_ratio)#.clone()\n",
        "        feats = feats.clone()\n",
        "        #print(f'This is feats {feats}')\n",
        "        # init storage feature matrix\n",
        "        if dist.get_rank() == 0 and features is None:\n",
        "            features = feats\n",
        "        else:\n",
        "            features = torch.cat((features, feats), dim = 0)\n",
        "    return features"
      ]
    },
    {
      "cell_type": "code",
      "execution_count": null,
      "metadata": {
        "id": "vcwtu-kNSaUU"
      },
      "outputs": [],
      "source": [
        "@torch.no_grad()\n",
        "def knn_classifier(train_features, train_labels, test_features, test_labels, k, T, num_classes=1000):\n",
        "    top1, top5, total = 0.0, 0.0, 0\n",
        "    train_features = train_features.t()\n",
        "    num_test_images, num_chunks = test_labels.shape[0], 100\n",
        "    imgs_per_chunk = num_test_images // num_chunks\n",
        "    retrieval_one_hot = torch.zeros(k, num_classes).cuda()\n",
        "    for idx in range(0, num_test_images, imgs_per_chunk):\n",
        "        # get the features for test images\n",
        "        features = test_features[\n",
        "            idx : min((idx + imgs_per_chunk), num_test_images), :\n",
        "        ]\n",
        "        targets = test_labels[idx : min((idx + imgs_per_chunk), num_test_images)]\n",
        "        batch_size = targets.shape[0]\n",
        "\n",
        "        # calculate the dot product and compute top-k neighbors\n",
        "        similarity = torch.mm(features, train_features)\n",
        "        distances, indices = similarity.topk(k, largest=True, sorted=True)\n",
        "        candidates = train_labels.view(1, -1).expand(batch_size, -1)\n",
        "        retrieved_neighbors = torch.gather(candidates.cuda(), 1, indices)\n",
        "\n",
        "        retrieval_one_hot.resize_(batch_size * k, num_classes).zero_()\n",
        "        retrieval_one_hot.scatter_(1, retrieved_neighbors.view(-1, 1), 1)\n",
        "        distances_transform = distances.clone().div_(T).exp_()\n",
        "        probs = torch.sum(\n",
        "            torch.mul(\n",
        "                retrieval_one_hot.view(batch_size, -1, num_classes),\n",
        "                distances_transform.view(batch_size, -1, 1),\n",
        "            ),\n",
        "            1,\n",
        "        )\n",
        "        _, predictions = probs.sort(1, True)\n",
        "\n",
        "        # find the predictions that match the target\n",
        "        correct = predictions.eq(targets.data.view(-1, 1).cuda())\n",
        "        top1 = top1 + correct.narrow(1, 0, 1).sum().item()\n",
        "        top5 = top5 + correct.narrow(1, 0, 5).sum().item()\n",
        "        total += targets.size(0)\n",
        "    top1 = top1 * 100.0 / total\n",
        "    top5 = top5 * 100.0 / total\n",
        "    return top1, top5\n"
      ]
    },
    {
      "cell_type": "markdown",
      "source": [
        "# Argument"
      ],
      "metadata": {
        "id": "XBjwQUgbqe3u"
      }
    },
    {
      "cell_type": "code",
      "execution_count": null,
      "metadata": {
        "colab": {
          "base_uri": "https://localhost:8080/"
        },
        "id": "D5JbF6yMSsa6",
        "outputId": "eeced556-80c1-4f2f-e198-c32c035ca5a4"
      },
      "outputs": [
        {
          "output_type": "execute_result",
          "data": {
            "text/plain": [
              "_StoreAction(option_strings=['--seed'], dest='seed', nargs=None, const=None, default=0, type=<class 'int'>, choices=None, help='Random seed', metavar=None)"
            ]
          },
          "metadata": {},
          "execution_count": 12
        }
      ],
      "source": [
        "parser = argparse.ArgumentParser()\n",
        "\n",
        "parser.add_argument('--batch_size_per_gpu', default=64, type=int,\n",
        "                    help='Batch size per GPU (effective batch size is batch_size * accum_iter * # gpus')\n",
        "parser.add_argument('--model', default='mae_vit_large_patch16', type=str, metavar='MODEL',\n",
        "                    help='Name of model to train')\n",
        "parser.add_argument('--norm_pix_loss', action='store_true',\n",
        "                        help='Use (per-patch) normalized pixels as targets for computing loss')\n",
        "parser.set_defaults(norm_pix_loss=False)\n",
        "parser.add_argument('--pretrained_weights', default='', type=str, help=\"Path to pretrained weights to evaluate.\")\n",
        "parser.add_argument('--mask_ratio', default=0., type=float,\n",
        "                    help='Masking ratio (percentage of removed patches).')\n",
        "parser.add_argument('--dump_features', default=None,\n",
        "                    help='Path where to save computed features, empty for no saving')\n",
        "parser.add_argument('--gene_embed_dim', default=8, type=int,\n",
        "                        help='Dimension of gene embedding.')\n",
        "parser.add_argument('--gene_number', default=2000, type=int,\n",
        "                        help='Number of gene.')\n",
        "\n",
        "# Dataset parameters\n",
        "parser.add_argument('--expr_path', default='/path/to/imagenet/train/', type=str,\n",
        "        help='Please specify path to the expression matrix.')\n",
        "parser.add_argument('--meta_path', default='/path/to/imagenet/train/', type=str,\n",
        "        help='Please specify path to the meta file.')\n",
        "parser.add_argument('--label_name', default='perturb', type=str,\n",
        "                    help='Please specify the name of label column in the meta file.')\n",
        "parser.add_argument('--num_workers', default=10, type=int)\n",
        "parser.add_argument('--load_features', default=None, help=\"\"\"If the features have\n",
        "        already been computed, where to find them.\"\"\")\n",
        "parser.add_argument('--nb_knn', default=[10, 20, 100, 200], nargs='+', type=int,\n",
        "                    help='Number of NN to use. 20 is usually working the best.')\n",
        "parser.add_argument('--temperature', default=0.07, type=float,\n",
        "                    help='Temperature used in the voting coefficient')\n",
        "    \n",
        "# distributed training parameters\n",
        "parser.add_argument('--world_size', default=1, type=int,\n",
        "                    help='number of distributed processes')\n",
        "parser.add_argument('--local_rank', default=-1, type=int)\n",
        "parser.add_argument('--dist_on_itp', action='store_true')\n",
        "parser.add_argument('--dist_url', default='env://',\n",
        "                    help='url used to set up distributed training')\n",
        "parser.add_argument('--use_cuda', action='store_true',\n",
        "        help=\"Should we store the features on GPU? We recommend setting this to False if you encounter OOM\")\n",
        "parser.set_defaults(use_cuda=False)\n",
        "parser.add_argument('--seed', default=0, type=int, help=\"\"\"Random seed\"\"\")\n",
        "\n"
      ]
    },
    {
      "cell_type": "code",
      "source": [
        ""
      ],
      "metadata": {
        "id": "jw1fZ2s1q9mm"
      },
      "execution_count": null,
      "outputs": []
    },
    {
      "cell_type": "markdown",
      "source": [
        "# Change arguments below"
      ],
      "metadata": {
        "id": "lEdsG5Dvq-jS"
      }
    },
    {
      "cell_type": "code",
      "execution_count": null,
      "metadata": {
        "colab": {
          "base_uri": "https://localhost:8080/"
        },
        "id": "Oirrip3KWTvK",
        "outputId": "e69586ae-4a60-4d00-fe8c-4822df659f0a"
      },
      "outputs": [
        {
          "output_type": "stream",
          "name": "stdout",
          "text": [
            "Namespace(batch_size_per_gpu=4, dist_on_itp=False, dist_url='env://', dump_features=None, expr_path='/content/drive/Shareddrives/Documentation/Jie_Sheng/Zhengmix8eq/Zhengmix8eq.csv', gene_embed_dim=64, gene_number=10198, label_name='x', load_features=None, local_rank=0, mask_ratio=0.0, meta_path='/content/drive/Shareddrives/Documentation/Jie_Sheng/Zhengmix8eq/meta.csv', model='mae_vit_d64', nb_knn=[10, 20, 100, 200], norm_pix_loss=False, num_workers=10, pretrained_weights='../scmae/checkpoint-4600.pth', seed=0, temperature=0.07, use_cuda=False, world_size=1)\n"
          ]
        }
      ],
      "source": [
        "args = parser.parse_args(args=['--model', 'mae_vit_d64', \n",
        "                               '--batch_size_per_gpu', '4',\n",
        "                               '--pretrained_weights', '../scmae/checkpoint-4600.pth',\n",
        "                               '--expr_path', '/content/drive/Shareddrives/Documentation/Jie_Sheng/Zhengmix8eq/Zhengmix8eq.csv',\n",
        "                               '--meta_path', '/content/drive/Shareddrives/Documentation/Jie_Sheng/Zhengmix8eq/meta.csv',\n",
        "                               '--label_name', 'x',\n",
        "                               '--local_rank', '0',\n",
        "                               '--gene_embed_dim', '64',\n",
        "                               '--gene_number', '10198',\n",
        "                               ])\n",
        "print(args)"
      ]
    },
    {
      "cell_type": "code",
      "source": [
        ""
      ],
      "metadata": {
        "id": "iMD4kYzUshro"
      },
      "execution_count": null,
      "outputs": []
    },
    {
      "cell_type": "markdown",
      "source": [
        "# knn accuracy"
      ],
      "metadata": {
        "id": "oHAN5gmorMCn"
      }
    },
    {
      "cell_type": "code",
      "execution_count": null,
      "metadata": {
        "colab": {
          "base_uri": "https://localhost:8080/"
        },
        "id": "IdNHBrsmtTW_",
        "outputId": "47646987-6f20-4d58-9d2c-99c484d0cddd"
      },
      "outputs": [
        {
          "output_type": "stream",
          "name": "stdout",
          "text": [
            "Will run the code on one GPU.\n",
            "| distributed init (rank 0): env://\n"
          ]
        }
      ],
      "source": [
        "utils.init_distributed_mode_dino(args) # Run only once"
      ]
    },
    {
      "cell_type": "code",
      "execution_count": null,
      "metadata": {
        "colab": {
          "base_uri": "https://localhost:8080/"
        },
        "id": "-2blB4CvWVpt",
        "outputId": "2a3a54b1-d1b6-4c11-e35a-cf6b85136c6b"
      },
      "outputs": [
        {
          "output_type": "stream",
          "name": "stdout",
          "text": [
            "[21:39:09.298959] git:\n",
            "  sha: N/A, status: clean, branch: N/A\n",
            "\n",
            "[21:39:09.299265] batch_size_per_gpu: 4\n",
            "dist_on_itp: False\n",
            "dist_url: env://\n",
            "dump_features: None\n",
            "expr_path: /content/drive/Shareddrives/Documentation/Jie_Sheng/Zhengmix8eq/Zhengmix8eq.csv\n",
            "gene_embed_dim: 64\n",
            "gene_number: 10198\n",
            "gpu: 0\n",
            "label_name: x\n",
            "load_features: None\n",
            "local_rank: 0\n",
            "mask_ratio: 0.0\n",
            "meta_path: /content/drive/Shareddrives/Documentation/Jie_Sheng/Zhengmix8eq/meta.csv\n",
            "model: mae_vit_d64\n",
            "nb_knn: [10, 20, 100, 200]\n",
            "norm_pix_loss: False\n",
            "num_workers: 10\n",
            "pretrained_weights: ../scmae/checkpoint-4600.pth\n",
            "rank: 0\n",
            "seed: 0\n",
            "temperature: 0.07\n",
            "use_cuda: False\n",
            "world_size: 1\n"
          ]
        }
      ],
      "source": [
        "#utils.init_distributed_mode_dino(args)\n",
        "print(\"git:\\n  {}\\n\".format(utils.get_sha()))\n",
        "print(\"\\n\".join(\"%s: %s\" % (k, str(v)) for k, v in sorted(dict(vars(args)).items())))\n",
        "cudnn.benchmark = True"
      ]
    },
    {
      "cell_type": "code",
      "execution_count": null,
      "metadata": {
        "colab": {
          "base_uri": "https://localhost:8080/"
        },
        "id": "1CnacnjYuc8O",
        "outputId": "95504ac0-0830-4644-b433-02a375161cdb"
      },
      "outputs": [
        {
          "output_type": "stream",
          "name": "stdout",
          "text": [
            "[21:39:20.001950] This dataset has 10198 genes!\n",
            "[21:39:20.046381] This is the label dictionary of this dataset {'b.cells': 0, 'cd14.monocytes': 1, 'cd4.t.helper': 2, 'cd56.nk': 3, 'memory.t': 4, 'naive.cytotoxic': 5, 'naive.t': 6, 'regulatory.t': 7}\n",
            "[21:39:20.051397] Data loaded with 3195 train and 799 val cells.\n"
          ]
        },
        {
          "output_type": "stream",
          "name": "stderr",
          "text": [
            "/usr/local/lib/python3.7/dist-packages/torch/utils/data/dataloader.py:560: UserWarning: This DataLoader will create 10 worker processes in total. Our suggested max number of worker in current system is 8, which is smaller than what this DataLoader is going to create. Please be aware that excessive worker creation might get DataLoader running slow or even freeze, lower the worker number to avoid potential slowness/freeze if necessary.\n",
            "  cpuset_checked))\n"
          ]
        }
      ],
      "source": [
        "# ============ preparing data ... ============\n",
        "expr = pd.read_csv(args.expr_path, index_col=0)\n",
        "meta = pd.read_csv(args.meta_path, index_col=0)\n",
        "gene_number = expr.shape[0]\n",
        "\n",
        "print(f'This dataset has {gene_number} genes!')\n",
        "\n",
        "#crop = Crop()\n",
        "\n",
        "dataset = scRNACSV(expr, meta, args.label_name, instance=True)\n",
        "\n",
        "trainset_length = int(len(dataset) * 0.8)\n",
        "testset_length = len(dataset) - trainset_length\n",
        "dataset_train, dataset_val = torch.utils.data.random_split(dataset, [trainset_length, testset_length],\n",
        "                                                               generator=torch.Generator().manual_seed(args.seed))\n",
        "train_labels = torch.tensor([dataset_train.dataset.labels[i] for i in dataset_train.indices]).long()\n",
        "test_labels = torch.tensor([dataset_val.dataset.labels[i] for i in dataset_val.indices]).long()\n",
        "\n",
        "sampler = torch.utils.data.DistributedSampler(dataset_train, shuffle=False)\n",
        "data_loader_train = torch.utils.data.DataLoader(\n",
        "    dataset_train,\n",
        "    sampler=sampler,\n",
        "    batch_size=args.batch_size_per_gpu,\n",
        "    num_workers=args.num_workers,\n",
        "    pin_memory=True,\n",
        "    drop_last=False,\n",
        ")\n",
        "data_loader_val = torch.utils.data.DataLoader(\n",
        "    dataset_val,\n",
        "    batch_size=args.batch_size_per_gpu,\n",
        "    num_workers=args.num_workers,\n",
        "    pin_memory=True,\n",
        "    drop_last=False,\n",
        ")\n",
        "print(f\"Data loaded with {len(dataset_train)} train and {len(dataset_val)} val cells.\")\n"
      ]
    },
    {
      "cell_type": "code",
      "execution_count": null,
      "metadata": {
        "colab": {
          "base_uri": "https://localhost:8080/"
        },
        "id": "qm1b68ZujlAD",
        "outputId": "30a7bbf8-226b-48b3-9e10-f71f95b5e86f"
      },
      "outputs": [
        {
          "output_type": "stream",
          "name": "stdout",
          "text": [
            "[21:39:20.089828] MaskedAutoencoderViT(\n",
            "  (pos_embed): Embedding(10198, 64)\n",
            "  (blocks): ModuleList(\n",
            "    (0): Block(\n",
            "      (norm1): LayerNorm((64,), eps=1e-06, elementwise_affine=True)\n",
            "      (attn): Attention(\n",
            "        (qkv): Linear(in_features=64, out_features=192, bias=True)\n",
            "        (attn_drop): Dropout(p=0.0, inplace=False)\n",
            "        (proj): Linear(in_features=64, out_features=64, bias=True)\n",
            "        (proj_drop): Dropout(p=0.0, inplace=False)\n",
            "      )\n",
            "      (drop_path): Identity()\n",
            "      (norm2): LayerNorm((64,), eps=1e-06, elementwise_affine=True)\n",
            "      (mlp): Mlp(\n",
            "        (fc1): Linear(in_features=64, out_features=256, bias=True)\n",
            "        (act): GELU(approximate=none)\n",
            "        (fc2): Linear(in_features=256, out_features=64, bias=True)\n",
            "        (drop): Dropout(p=0.0, inplace=False)\n",
            "      )\n",
            "    )\n",
            "    (1): Block(\n",
            "      (norm1): LayerNorm((64,), eps=1e-06, elementwise_affine=True)\n",
            "      (attn): Attention(\n",
            "        (qkv): Linear(in_features=64, out_features=192, bias=True)\n",
            "        (attn_drop): Dropout(p=0.0, inplace=False)\n",
            "        (proj): Linear(in_features=64, out_features=64, bias=True)\n",
            "        (proj_drop): Dropout(p=0.0, inplace=False)\n",
            "      )\n",
            "      (drop_path): Identity()\n",
            "      (norm2): LayerNorm((64,), eps=1e-06, elementwise_affine=True)\n",
            "      (mlp): Mlp(\n",
            "        (fc1): Linear(in_features=64, out_features=256, bias=True)\n",
            "        (act): GELU(approximate=none)\n",
            "        (fc2): Linear(in_features=256, out_features=64, bias=True)\n",
            "        (drop): Dropout(p=0.0, inplace=False)\n",
            "      )\n",
            "    )\n",
            "    (2): Block(\n",
            "      (norm1): LayerNorm((64,), eps=1e-06, elementwise_affine=True)\n",
            "      (attn): Attention(\n",
            "        (qkv): Linear(in_features=64, out_features=192, bias=True)\n",
            "        (attn_drop): Dropout(p=0.0, inplace=False)\n",
            "        (proj): Linear(in_features=64, out_features=64, bias=True)\n",
            "        (proj_drop): Dropout(p=0.0, inplace=False)\n",
            "      )\n",
            "      (drop_path): Identity()\n",
            "      (norm2): LayerNorm((64,), eps=1e-06, elementwise_affine=True)\n",
            "      (mlp): Mlp(\n",
            "        (fc1): Linear(in_features=64, out_features=256, bias=True)\n",
            "        (act): GELU(approximate=none)\n",
            "        (fc2): Linear(in_features=256, out_features=64, bias=True)\n",
            "        (drop): Dropout(p=0.0, inplace=False)\n",
            "      )\n",
            "    )\n",
            "    (3): Block(\n",
            "      (norm1): LayerNorm((64,), eps=1e-06, elementwise_affine=True)\n",
            "      (attn): Attention(\n",
            "        (qkv): Linear(in_features=64, out_features=192, bias=True)\n",
            "        (attn_drop): Dropout(p=0.0, inplace=False)\n",
            "        (proj): Linear(in_features=64, out_features=64, bias=True)\n",
            "        (proj_drop): Dropout(p=0.0, inplace=False)\n",
            "      )\n",
            "      (drop_path): Identity()\n",
            "      (norm2): LayerNorm((64,), eps=1e-06, elementwise_affine=True)\n",
            "      (mlp): Mlp(\n",
            "        (fc1): Linear(in_features=64, out_features=256, bias=True)\n",
            "        (act): GELU(approximate=none)\n",
            "        (fc2): Linear(in_features=256, out_features=64, bias=True)\n",
            "        (drop): Dropout(p=0.0, inplace=False)\n",
            "      )\n",
            "    )\n",
            "    (4): Block(\n",
            "      (norm1): LayerNorm((64,), eps=1e-06, elementwise_affine=True)\n",
            "      (attn): Attention(\n",
            "        (qkv): Linear(in_features=64, out_features=192, bias=True)\n",
            "        (attn_drop): Dropout(p=0.0, inplace=False)\n",
            "        (proj): Linear(in_features=64, out_features=64, bias=True)\n",
            "        (proj_drop): Dropout(p=0.0, inplace=False)\n",
            "      )\n",
            "      (drop_path): Identity()\n",
            "      (norm2): LayerNorm((64,), eps=1e-06, elementwise_affine=True)\n",
            "      (mlp): Mlp(\n",
            "        (fc1): Linear(in_features=64, out_features=256, bias=True)\n",
            "        (act): GELU(approximate=none)\n",
            "        (fc2): Linear(in_features=256, out_features=64, bias=True)\n",
            "        (drop): Dropout(p=0.0, inplace=False)\n",
            "      )\n",
            "    )\n",
            "    (5): Block(\n",
            "      (norm1): LayerNorm((64,), eps=1e-06, elementwise_affine=True)\n",
            "      (attn): Attention(\n",
            "        (qkv): Linear(in_features=64, out_features=192, bias=True)\n",
            "        (attn_drop): Dropout(p=0.0, inplace=False)\n",
            "        (proj): Linear(in_features=64, out_features=64, bias=True)\n",
            "        (proj_drop): Dropout(p=0.0, inplace=False)\n",
            "      )\n",
            "      (drop_path): Identity()\n",
            "      (norm2): LayerNorm((64,), eps=1e-06, elementwise_affine=True)\n",
            "      (mlp): Mlp(\n",
            "        (fc1): Linear(in_features=64, out_features=256, bias=True)\n",
            "        (act): GELU(approximate=none)\n",
            "        (fc2): Linear(in_features=256, out_features=64, bias=True)\n",
            "        (drop): Dropout(p=0.0, inplace=False)\n",
            "      )\n",
            "    )\n",
            "  )\n",
            "  (norm): LayerNorm((64,), eps=1e-06, elementwise_affine=True)\n",
            "  (encoder_embed): Linear(in_features=1, out_features=64, bias=True)\n",
            "  (decoder_embed): Linear(in_features=64, out_features=64, bias=True)\n",
            "  (decoder_blocks): ModuleList(\n",
            "    (0): Block(\n",
            "      (norm1): LayerNorm((64,), eps=1e-06, elementwise_affine=True)\n",
            "      (attn): Attention(\n",
            "        (qkv): Linear(in_features=64, out_features=192, bias=True)\n",
            "        (attn_drop): Dropout(p=0.0, inplace=False)\n",
            "        (proj): Linear(in_features=64, out_features=64, bias=True)\n",
            "        (proj_drop): Dropout(p=0.0, inplace=False)\n",
            "      )\n",
            "      (drop_path): Identity()\n",
            "      (norm2): LayerNorm((64,), eps=1e-06, elementwise_affine=True)\n",
            "      (mlp): Mlp(\n",
            "        (fc1): Linear(in_features=64, out_features=256, bias=True)\n",
            "        (act): GELU(approximate=none)\n",
            "        (fc2): Linear(in_features=256, out_features=64, bias=True)\n",
            "        (drop): Dropout(p=0.0, inplace=False)\n",
            "      )\n",
            "    )\n",
            "    (1): Block(\n",
            "      (norm1): LayerNorm((64,), eps=1e-06, elementwise_affine=True)\n",
            "      (attn): Attention(\n",
            "        (qkv): Linear(in_features=64, out_features=192, bias=True)\n",
            "        (attn_drop): Dropout(p=0.0, inplace=False)\n",
            "        (proj): Linear(in_features=64, out_features=64, bias=True)\n",
            "        (proj_drop): Dropout(p=0.0, inplace=False)\n",
            "      )\n",
            "      (drop_path): Identity()\n",
            "      (norm2): LayerNorm((64,), eps=1e-06, elementwise_affine=True)\n",
            "      (mlp): Mlp(\n",
            "        (fc1): Linear(in_features=64, out_features=256, bias=True)\n",
            "        (act): GELU(approximate=none)\n",
            "        (fc2): Linear(in_features=256, out_features=64, bias=True)\n",
            "        (drop): Dropout(p=0.0, inplace=False)\n",
            "      )\n",
            "    )\n",
            "  )\n",
            "  (decoder_norm): LayerNorm((64,), eps=1e-06, elementwise_affine=True)\n",
            "  (decoder_pred): Linear(in_features=64, out_features=1, bias=True)\n",
            ")\n",
            "[21:39:20.090521] Model mae_vit_d64 built.\n",
            "[21:39:20.134551] <All keys matched successfully>\n",
            "[21:39:20.135532] Extracting features for train set...\n"
          ]
        },
        {
          "output_type": "stream",
          "name": "stderr",
          "text": [
            "/usr/local/lib/python3.7/dist-packages/torch/utils/data/dataloader.py:560: UserWarning: This DataLoader will create 10 worker processes in total. Our suggested max number of worker in current system is 8, which is smaller than what this DataLoader is going to create. Please be aware that excessive worker creation might get DataLoader running slow or even freeze, lower the worker number to avoid potential slowness/freeze if necessary.\n",
            "  cpuset_checked))\n"
          ]
        },
        {
          "output_type": "stream",
          "name": "stdout",
          "text": [
            "[21:39:21.652008]   [  0/799]  eta: 0:20:05    time: 1.5094  data: 0.4978  max mem: 6433\n",
            "[21:39:25.337869]   [ 10/799]  eta: 0:06:12    time: 0.4722  data: 0.0457  max mem: 6433\n",
            "[21:39:29.036203]   [ 20/799]  eta: 0:05:29    time: 0.3691  data: 0.0003  max mem: 6433\n",
            "[21:39:32.733120]   [ 30/799]  eta: 0:05:12    time: 0.3697  data: 0.0002  max mem: 6433\n",
            "[21:39:36.430956]   [ 40/799]  eta: 0:05:01    time: 0.3696  data: 0.0002  max mem: 6533\n",
            "[21:39:40.127983]   [ 50/799]  eta: 0:04:53    time: 0.3696  data: 0.0002  max mem: 6533\n",
            "[21:39:43.825344]   [ 60/799]  eta: 0:04:46    time: 0.3696  data: 0.0003  max mem: 6533\n",
            "[21:39:47.524267]   [ 70/799]  eta: 0:04:41    time: 0.3697  data: 0.0003  max mem: 6533\n",
            "[21:39:51.220757]   [ 80/799]  eta: 0:04:35    time: 0.3697  data: 0.0003  max mem: 6533\n",
            "[21:39:54.918001]   [ 90/799]  eta: 0:04:30    time: 0.3696  data: 0.0003  max mem: 6533\n",
            "[21:39:58.614673]   [100/799]  eta: 0:04:26    time: 0.3696  data: 0.0003  max mem: 6533\n",
            "[21:40:02.313249]   [110/799]  eta: 0:04:21    time: 0.3697  data: 0.0003  max mem: 6533\n",
            "[21:40:06.010751]   [120/799]  eta: 0:04:17    time: 0.3697  data: 0.0002  max mem: 6533\n",
            "[21:40:09.706785]   [130/799]  eta: 0:04:13    time: 0.3696  data: 0.0002  max mem: 6533\n",
            "[21:40:13.404932]   [140/799]  eta: 0:04:08    time: 0.3696  data: 0.0003  max mem: 6533\n",
            "[21:40:17.101672]   [150/799]  eta: 0:04:04    time: 0.3696  data: 0.0003  max mem: 6533\n",
            "[21:40:20.798247]   [160/799]  eta: 0:04:00    time: 0.3695  data: 0.0003  max mem: 6533\n",
            "[21:40:24.497036]   [170/799]  eta: 0:03:56    time: 0.3696  data: 0.0002  max mem: 6533\n",
            "[21:40:28.194329]   [180/799]  eta: 0:03:52    time: 0.3697  data: 0.0003  max mem: 6533\n",
            "[21:40:31.892188]   [190/799]  eta: 0:03:48    time: 0.3697  data: 0.0003  max mem: 6533\n",
            "[21:40:35.590398]   [200/799]  eta: 0:03:44    time: 0.3697  data: 0.0003  max mem: 6533\n",
            "[21:40:39.287322]   [210/799]  eta: 0:03:40    time: 0.3697  data: 0.0002  max mem: 6533\n",
            "[21:40:42.984924]   [220/799]  eta: 0:03:36    time: 0.3696  data: 0.0003  max mem: 6533\n",
            "[21:40:46.679507]   [230/799]  eta: 0:03:33    time: 0.3695  data: 0.0003  max mem: 9659\n",
            "[21:40:50.371541]   [240/799]  eta: 0:03:29    time: 0.3692  data: 0.0002  max mem: 9659\n",
            "[21:40:54.067052]   [250/799]  eta: 0:03:25    time: 0.3693  data: 0.0002  max mem: 9659\n",
            "[21:40:57.762890]   [260/799]  eta: 0:03:21    time: 0.3695  data: 0.0002  max mem: 9659\n",
            "[21:41:01.453560]   [270/799]  eta: 0:03:17    time: 0.3692  data: 0.0002  max mem: 9659\n",
            "[21:41:05.146742]   [280/799]  eta: 0:03:13    time: 0.3691  data: 0.0003  max mem: 9659\n",
            "[21:41:08.840562]   [290/799]  eta: 0:03:10    time: 0.3693  data: 0.0003  max mem: 9659\n",
            "[21:41:12.533737]   [300/799]  eta: 0:03:06    time: 0.3693  data: 0.0003  max mem: 9659\n",
            "[21:41:16.229683]   [310/799]  eta: 0:03:02    time: 0.3694  data: 0.0003  max mem: 9659\n",
            "[21:41:19.922321]   [320/799]  eta: 0:02:58    time: 0.3693  data: 0.0003  max mem: 9659\n",
            "[21:41:23.615945]   [330/799]  eta: 0:02:54    time: 0.3692  data: 0.0003  max mem: 9659\n",
            "[21:41:27.311210]   [340/799]  eta: 0:02:51    time: 0.3694  data: 0.0002  max mem: 9659\n",
            "[21:41:31.002778]   [350/799]  eta: 0:02:47    time: 0.3693  data: 0.0003  max mem: 9659\n",
            "[21:41:34.696642]   [360/799]  eta: 0:02:43    time: 0.3691  data: 0.0003  max mem: 9659\n",
            "[21:41:38.388470]   [370/799]  eta: 0:02:39    time: 0.3691  data: 0.0003  max mem: 9659\n",
            "[21:41:42.083732]   [380/799]  eta: 0:02:36    time: 0.3692  data: 0.0004  max mem: 9659\n",
            "[21:41:45.774896]   [390/799]  eta: 0:02:32    time: 0.3692  data: 0.0003  max mem: 9659\n",
            "[21:41:49.467934]   [400/799]  eta: 0:02:28    time: 0.3691  data: 0.0003  max mem: 9659\n",
            "[21:41:53.162205]   [410/799]  eta: 0:02:24    time: 0.3693  data: 0.0003  max mem: 9659\n",
            "[21:41:56.854026]   [420/799]  eta: 0:02:21    time: 0.3692  data: 0.0002  max mem: 9659\n",
            "[21:42:00.545201]   [430/799]  eta: 0:02:17    time: 0.3691  data: 0.0002  max mem: 9659\n",
            "[21:42:04.237264]   [440/799]  eta: 0:02:13    time: 0.3691  data: 0.0002  max mem: 9659\n",
            "[21:42:07.930445]   [450/799]  eta: 0:02:09    time: 0.3692  data: 0.0002  max mem: 9659\n",
            "[21:42:11.623717]   [460/799]  eta: 0:02:06    time: 0.3692  data: 0.0002  max mem: 9659\n",
            "[21:42:15.314424]   [470/799]  eta: 0:02:02    time: 0.3690  data: 0.0002  max mem: 9659\n",
            "[21:42:19.007986]   [480/799]  eta: 0:01:58    time: 0.3691  data: 0.0003  max mem: 9659\n",
            "[21:42:22.700631]   [490/799]  eta: 0:01:54    time: 0.3692  data: 0.0002  max mem: 9659\n",
            "[21:42:26.392648]   [500/799]  eta: 0:01:51    time: 0.3691  data: 0.0003  max mem: 9659\n",
            "[21:42:30.085905]   [510/799]  eta: 0:01:47    time: 0.3692  data: 0.0003  max mem: 9659\n",
            "[21:42:33.780030]   [520/799]  eta: 0:01:43    time: 0.3693  data: 0.0003  max mem: 9659\n",
            "[21:42:37.474206]   [530/799]  eta: 0:01:39    time: 0.3693  data: 0.0003  max mem: 9659\n",
            "[21:42:41.167131]   [540/799]  eta: 0:01:36    time: 0.3693  data: 0.0003  max mem: 9659\n",
            "[21:42:44.860893]   [550/799]  eta: 0:01:32    time: 0.3692  data: 0.0003  max mem: 9659\n",
            "[21:42:48.553022]   [560/799]  eta: 0:01:28    time: 0.3692  data: 0.0003  max mem: 9659\n",
            "[21:42:52.242973]   [570/799]  eta: 0:01:25    time: 0.3690  data: 0.0002  max mem: 9659\n",
            "[21:42:55.935897]   [580/799]  eta: 0:01:21    time: 0.3691  data: 0.0002  max mem: 9659\n",
            "[21:42:59.628971]   [590/799]  eta: 0:01:17    time: 0.3692  data: 0.0003  max mem: 9659\n",
            "[21:43:03.322287]   [600/799]  eta: 0:01:13    time: 0.3692  data: 0.0003  max mem: 9659\n",
            "[21:43:07.015241]   [610/799]  eta: 0:01:10    time: 0.3692  data: 0.0003  max mem: 9659\n",
            "[21:43:10.704847]   [620/799]  eta: 0:01:06    time: 0.3690  data: 0.0002  max mem: 9659\n",
            "[21:43:14.396716]   [630/799]  eta: 0:01:02    time: 0.3690  data: 0.0002  max mem: 9659\n",
            "[21:43:18.089904]   [640/799]  eta: 0:00:59    time: 0.3692  data: 0.0003  max mem: 9659\n",
            "[21:43:21.782311]   [650/799]  eta: 0:00:55    time: 0.3692  data: 0.0003  max mem: 9659\n",
            "[21:43:25.475628]   [660/799]  eta: 0:00:51    time: 0.3692  data: 0.0002  max mem: 9659\n",
            "[21:43:29.167691]   [670/799]  eta: 0:00:47    time: 0.3692  data: 0.0003  max mem: 9659\n",
            "[21:43:32.861100]   [680/799]  eta: 0:00:44    time: 0.3692  data: 0.0003  max mem: 9659\n",
            "[21:43:36.554455]   [690/799]  eta: 0:00:40    time: 0.3692  data: 0.0003  max mem: 9659\n",
            "[21:43:40.247770]   [700/799]  eta: 0:00:36    time: 0.3692  data: 0.0002  max mem: 9659\n",
            "[21:43:43.941624]   [710/799]  eta: 0:00:33    time: 0.3692  data: 0.0002  max mem: 9659\n",
            "[21:43:47.632954]   [720/799]  eta: 0:00:29    time: 0.3691  data: 0.0003  max mem: 9659\n",
            "[21:43:51.325638]   [730/799]  eta: 0:00:25    time: 0.3691  data: 0.0002  max mem: 9659\n",
            "[21:43:55.017309]   [740/799]  eta: 0:00:21    time: 0.3691  data: 0.0002  max mem: 9659\n",
            "[21:43:58.710920]   [750/799]  eta: 0:00:18    time: 0.3691  data: 0.0002  max mem: 9659\n",
            "[21:44:02.404686]   [760/799]  eta: 0:00:14    time: 0.3693  data: 0.0003  max mem: 9659\n",
            "[21:44:06.098192]   [770/799]  eta: 0:00:10    time: 0.3693  data: 0.0003  max mem: 9659\n",
            "[21:44:09.791098]   [780/799]  eta: 0:00:07    time: 0.3692  data: 0.0003  max mem: 9659\n",
            "[21:44:13.484272]   [790/799]  eta: 0:00:03    time: 0.3692  data: 0.0003  max mem: 9659\n",
            "[21:44:16.367043]   [798/799]  eta: 0:00:00    time: 0.3657  data: 0.0003  max mem: 9659\n",
            "[21:44:16.464270]  Total time: 0:04:56 (0.3709 s / it)\n",
            "[21:44:16.465040] Extracting features for val set...\n",
            "[21:44:17.115759]   [  0/200]  eta: 0:02:09    time: 0.6499  data: 0.3649  max mem: 9659\n",
            "[21:44:20.808292]   [ 10/200]  eta: 0:01:14    time: 0.3947  data: 0.0334  max mem: 9659\n",
            "[21:44:24.503136]   [ 20/200]  eta: 0:01:08    time: 0.3693  data: 0.0002  max mem: 9659\n",
            "[21:44:28.195693]   [ 30/200]  eta: 0:01:04    time: 0.3693  data: 0.0003  max mem: 9659\n",
            "[21:44:31.889265]   [ 40/200]  eta: 0:01:00    time: 0.3692  data: 0.0003  max mem: 9659\n",
            "[21:44:35.582046]   [ 50/200]  eta: 0:00:56    time: 0.3692  data: 0.0003  max mem: 9659\n",
            "[21:44:39.275954]   [ 60/200]  eta: 0:00:52    time: 0.3692  data: 0.0003  max mem: 9659\n",
            "[21:44:42.969047]   [ 70/200]  eta: 0:00:48    time: 0.3693  data: 0.0003  max mem: 9659\n",
            "[21:44:46.662673]   [ 80/200]  eta: 0:00:44    time: 0.3692  data: 0.0003  max mem: 9659\n",
            "[21:44:50.355500]   [ 90/200]  eta: 0:00:40    time: 0.3692  data: 0.0002  max mem: 9659\n",
            "[21:44:54.048323]   [100/200]  eta: 0:00:37    time: 0.3691  data: 0.0002  max mem: 9659\n",
            "[21:44:57.740317]   [110/200]  eta: 0:00:33    time: 0.3691  data: 0.0003  max mem: 9659\n",
            "[21:45:01.434098]   [120/200]  eta: 0:00:29    time: 0.3692  data: 0.0003  max mem: 9659\n",
            "[21:45:05.127488]   [130/200]  eta: 0:00:25    time: 0.3693  data: 0.0003  max mem: 9659\n",
            "[21:45:08.820121]   [140/200]  eta: 0:00:22    time: 0.3692  data: 0.0003  max mem: 9659\n",
            "[21:45:12.513057]   [150/200]  eta: 0:00:18    time: 0.3691  data: 0.0003  max mem: 9659\n",
            "[21:45:16.205771]   [160/200]  eta: 0:00:14    time: 0.3692  data: 0.0002  max mem: 9659\n",
            "[21:45:19.897149]   [170/200]  eta: 0:00:11    time: 0.3691  data: 0.0003  max mem: 9659\n",
            "[21:45:23.590955]   [180/200]  eta: 0:00:07    time: 0.3692  data: 0.0003  max mem: 9659\n",
            "[21:45:27.284028]   [190/200]  eta: 0:00:03    time: 0.3692  data: 0.0003  max mem: 9659\n",
            "[21:45:30.535780]   [199/200]  eta: 0:00:00    time: 0.3656  data: 0.0003  max mem: 9659\n",
            "[21:45:30.621395]  Total time: 0:01:14 (0.3708 s / it)\n",
            "[21:45:30.626842] Features are ready!\n",
            "Start the k-NN classification.\n",
            "[21:45:30.687470] 10-NN classifier result: Top1: 71.21401752190238, Top5: 95.49436795994994\n",
            "[21:45:30.744176] 20-NN classifier result: Top1: 71.71464330413016, Top5: 98.99874843554443\n",
            "[21:45:30.800372] 100-NN classifier result: Top1: 70.71339173967459, Top5: 99.49937421777221\n",
            "[21:45:30.855929] 200-NN classifier result: Top1: 68.46057571964957, Top5: 99.37421777221527\n"
          ]
        }
      ],
      "source": [
        "if args.load_features:\n",
        "    train_features = torch.load(os.path.join(args.load_features, \"trainfeat.pth\"))\n",
        "    test_features = torch.load(os.path.join(args.load_features, \"testfeat.pth\"))\n",
        "    train_labels = torch.load(os.path.join(args.load_features, \"trainlabels.pth\"))\n",
        "    test_labels = torch.load(os.path.join(args.load_features, \"testlabels.pth\"))\n",
        "else:\n",
        "    # need to extract features !\n",
        "    train_features, test_features, train_labels, test_labels = extract_feature_pipeline(args, data_loader_train, data_loader_val, train_labels, test_labels, gene_number)\n",
        "\n",
        "if utils.get_rank() == 0:\n",
        "    if args.use_cuda:\n",
        "        train_features = train_features.cuda()\n",
        "        test_features = test_features.cuda()\n",
        "        train_labels = train_labels.cuda()\n",
        "        test_labels = test_labels.cuda()\n",
        "\n",
        "    print(\"Features are ready!\\nStart the k-NN classification.\")\n",
        "    for k in args.nb_knn:\n",
        "        top1, top5 = knn_classifier(train_features, train_labels,\n",
        "            test_features, test_labels, k, args.temperature)\n",
        "        print(f\"{k}-NN classifier result: Top1: {top1}, Top5: {top5}\")\n",
        "dist.barrier()"
      ]
    },
    {
      "cell_type": "markdown",
      "source": [
        "# Cell representation (tSNE)"
      ],
      "metadata": {
        "id": "KIqpC_RvrQoG"
      }
    },
    {
      "cell_type": "code",
      "execution_count": null,
      "metadata": {
        "id": "pSrovBx4Rie3"
      },
      "outputs": [],
      "source": [
        "#pip install sklearn\n",
        "import sklearn\n",
        "import scprep"
      ]
    },
    {
      "cell_type": "code",
      "execution_count": null,
      "metadata": {
        "id": "R5tAfcQoSOKE"
      },
      "outputs": [],
      "source": [
        "tsne_operator = sklearn.manifold.TSNE(n_components=2,random_state=42, perplexity=30)"
      ]
    },
    {
      "cell_type": "code",
      "execution_count": null,
      "metadata": {
        "colab": {
          "base_uri": "https://localhost:8080/",
          "height": 573
        },
        "id": "4I259eBWRekM",
        "outputId": "24d78223-dd49-4870-8938-60fb20a06e51"
      },
      "outputs": [
        {
          "output_type": "stream",
          "name": "stderr",
          "text": [
            "/usr/local/lib/python3.7/dist-packages/sklearn/manifold/_t_sne.py:783: FutureWarning: The default initialization in TSNE will change from 'random' to 'pca' in 1.2.\n",
            "  FutureWarning,\n",
            "/usr/local/lib/python3.7/dist-packages/sklearn/manifold/_t_sne.py:793: FutureWarning: The default learning rate in TSNE will change from 200.0 to 'auto' in 1.2.\n",
            "  FutureWarning,\n"
          ]
        },
        {
          "output_type": "execute_result",
          "data": {
            "text/plain": [
              "{'b.cells': 0,\n",
              " 'cd14.monocytes': 1,\n",
              " 'cd4.t.helper': 2,\n",
              " 'cd56.nk': 3,\n",
              " 'memory.t': 4,\n",
              " 'naive.cytotoxic': 5,\n",
              " 'naive.t': 6,\n",
              " 'regulatory.t': 7}"
            ]
          },
          "metadata": {},
          "execution_count": 20
        },
        {
          "output_type": "display_data",
          "data": {
            "text/plain": [
              "<Figure size 504x360 with 1 Axes>"
            ],
            "image/png": "[encoded data removed]"
          },
          "metadata": {
            "needs_background": "light"
          }
        }
      ],
      "source": [
        "# ================= save output ... ========================\n",
        "tr_features = train_features.cpu().numpy()\n",
        "tr_labels = train_labels.cpu().numpy()\n",
        "te_features = test_features.cpu().numpy()\n",
        "te_labels = test_labels.cpu().numpy()\n",
        "# ================= visualization ... ========================\n",
        "data_tsne = tsne_operator.fit_transform(tr_features) # data is first moved to cpu \n",
        "#data_umap = pd.DataFrame(data_umap, index=te_labels)\n",
        "scprep.plot.scatter2d(data_tsne, c=tr_labels, cmap='Spectral', # colormap\n",
        "                      ticks=True, label_prefix='t-SNE', title=\"Zhengmix8eq\",\n",
        "                      legend_anchor=(1,1), figsize=(7,5))\n",
        "\n",
        "{'b.cells': 0, \n",
        " 'cd14.monocytes': 1, \n",
        " 'cd4.t.helper': 2, \n",
        " 'cd56.nk': 3, \n",
        " 'memory.t': 4, \n",
        " 'naive.cytotoxic': 5, \n",
        " 'naive.t': 6, \n",
        " 'regulatory.t': 7}\n"
      ]
    },
    {
      "cell_type": "code",
      "execution_count": null,
      "metadata": {
        "colab": {
          "base_uri": "https://localhost:8080/",
          "height": 454
        },
        "id": "8F1x0bv9WeX-",
        "outputId": "9988fae4-cf2b-4c41-91d7-f8a13067cd6b"
      },
      "outputs": [
        {
          "output_type": "stream",
          "name": "stderr",
          "text": [
            "/usr/local/lib/python3.7/dist-packages/sklearn/manifold/_t_sne.py:783: FutureWarning: The default initialization in TSNE will change from 'random' to 'pca' in 1.2.\n",
            "  FutureWarning,\n",
            "/usr/local/lib/python3.7/dist-packages/sklearn/manifold/_t_sne.py:793: FutureWarning: The default learning rate in TSNE will change from 200.0 to 'auto' in 1.2.\n",
            "  FutureWarning,\n"
          ]
        },
        {
          "output_type": "execute_result",
          "data": {
            "text/plain": [
              "<matplotlib.axes._subplots.AxesSubplot at 0x7f7a1cdf5710>"
            ]
          },
          "metadata": {},
          "execution_count": 21
        },
        {
          "output_type": "display_data",
          "data": {
            "text/plain": [
              "<Figure size 504x360 with 1 Axes>"
            ],
            "image/png": "[encoded data removed]"
          },
          "metadata": {}
        }
      ],
      "source": [
        "data_tsne = tsne_operator.fit_transform(te_features) # data is first moved to cpu \n",
        "#data_umap = pd.DataFrame(data_umap, index=te_labels)\n",
        "scprep.plot.scatter2d(data_tsne, c=te_labels, cmap='Spectral', # colormap\n",
        "                      ticks=False, label_prefix='t-SNE', title=\"FashionMNIST\",\n",
        "                      legend_anchor=(1,1), figsize=(7,5))"
      ]
    }
  ],
  "metadata": {
    "accelerator": "GPU",
    "colab": {
      "name": "[scTransformer]zhengmix8eq_knn&cell_representation.ipynb",
      "provenance": [],
      "machine_shape": "hm",
      "collapsed_sections": [
        "uCsbZKerqw_F",
        "q_EZwHtEoHRG",
        "XBjwQUgbqe3u",
        "lEdsG5Dvq-jS",
        "KIqpC_RvrQoG"
      ],
      "mount_file_id": "131nkUrA1f5JG50hQDqYBHkrMhO-8xWed",
      "authorship_tag": "ABX9TyMtvQYgqPl2Jo1qxr9/LS0u",
      "include_colab_link": true
    },
    "kernelspec": {
      "display_name": "Python 3",
      "name": "python3"
    },
    "language_info": {
      "name": "python"
    }
  },
  "nbformat": 4,
  "nbformat_minor": 0
}